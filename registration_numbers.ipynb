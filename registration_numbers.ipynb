{
  "cells": [
    {
      "cell_type": "markdown",
      "metadata": {
        "id": "view-in-github",
        "colab_type": "text"
      },
      "source": [
        "<a href=\"https://colab.research.google.com/github/bob-aila/Py_mini_project/blob/main/registration_numbers.ipynb\" target=\"_parent\"><img src=\"https://colab.research.google.com/assets/colab-badge.svg\" alt=\"Open In Colab\"/></a>"
      ]
    },
    {
      "cell_type": "code",
      "execution_count": null,
      "id": "d44630dd",
      "metadata": {
        "id": "d44630dd"
      },
      "outputs": [],
      "source": [
        "# implementation of Student Registration Number generator\n",
        "\n",
        "import os\n",
        "\n",
        "# In-memory dictionary for tracking counts\n",
        "registry_counts = {}\n",
        "\n",
        "# File to persist counts\n",
        "DB_FILE = \"student_registry.txt\"\n",
        "\n",
        "# Load existing counts from file if present\n",
        "def load_registry():\n",
        "    global registry_counts\n",
        "    if os.path.exists(DB_FILE):\n",
        "        with open(DB_FILE, \"r\") as f:\n",
        "            for line in f:\n",
        "                prefix, count = line.strip().split(\",\")\n",
        "                registry_counts[prefix] = int(count)\n",
        "\n",
        "# Save updated counts back to file\n",
        "def save_registry():\n",
        "    with open(DB_FILE, \"w\") as f:\n",
        "        for prefix, count in registry_counts.items():\n",
        "            f.write(f\"{prefix},{count}\\n\")\n",
        "\n",
        "# Normalize string: uppercase, remove spaces/hyphens, replace simple accents\n",
        "def normalize_name(name):\n",
        "    name = name.upper().replace(\" \", \"\").replace(\"-\", \"\")\n",
        "    # Basic accent replacements\n",
        "    accents = {\n",
        "        \"É\": \"E\", \"È\": \"E\", \"Ê\": \"E\", \"Ë\": \"E\",\n",
        "        \"À\": \"A\", \"Â\": \"A\", \"Ä\": \"A\",\n",
        "        \"Ç\": \"C\",\n",
        "        \"Î\": \"I\", \"Ï\": \"I\",\n",
        "        \"Ô\": \"O\", \"Ö\": \"O\",\n",
        "        \"Ù\": \"U\", \"Û\": \"U\", \"Ü\": \"U\",\n",
        "    }\n",
        "    for accented, plain in accents.items():\n",
        "        name = name.replace(accented, plain)\n",
        "    return name\n",
        "\n",
        "# Extract first three consonants\n",
        "def extract_consonants(name):\n",
        "    consonants = [ch for ch in name if ch.isalpha() and ch not in \"AEIOU\"]\n",
        "    while len(consonants) < 3:\n",
        "        consonants.append(\"X\")\n",
        "    return \"\".join(consonants[:3])\n",
        "\n",
        "# Extract first three letters\n",
        "def extract_letters(name):\n",
        "    letters = [ch for ch in name if ch.isalpha()]\n",
        "    while len(letters) < 3:\n",
        "        letters.append(\"X\")\n",
        "    return \"\".join(letters[:3])\n",
        "\n",
        "# Main function to generate registration number\n",
        "def generate_registration(last_name, first_name):\n",
        "    # Validation\n",
        "    allowed_chars = set(\"ABCDEFGHIJKLMNOPQRSTUVWXYZ -abcdefghijklmnopqrstuvwxyz\")\n",
        "    if any(ch not in allowed_chars for ch in last_name + first_name):\n",
        "        raise ValueError(\"Names must contain only letters, spaces, or hyphens\")\n",
        "\n",
        "    # Normalize\n",
        "    last = normalize_name(last_name)\n",
        "    first = normalize_name(first_name)\n",
        "\n",
        "    # Extract fields\n",
        "    field1 = extract_consonants(last)\n",
        "    field2 = extract_letters(first)\n",
        "\n",
        "    prefix = field1 + field2\n",
        "\n",
        "    # Update sequential counter\n",
        "    if prefix not in registry_counts:\n",
        "        registry_counts[prefix] = 1\n",
        "    else:\n",
        "        registry_counts[prefix] += 1\n",
        "\n",
        "    seq = f\"{registry_counts[prefix]:03d}\"\n",
        "\n",
        "    # Persist\n",
        "    save_registry()\n",
        "\n",
        "    return prefix + seq\n"
      ]
    },
    {
      "cell_type": "code",
      "execution_count": 6,
      "id": "4c6114cb",
      "metadata": {
        "id": "4c6114cb",
        "outputId": "c6d85fa8-528a-4d9a-d4e8-b8135c826578",
        "colab": {
          "base_uri": "https://localhost:8080/"
        }
      },
      "outputs": [
        {
          "name": "stdout",
          "output_type": "stream",
          "text": [
            "Enter last name (or 'quit'): John\n",
            "Enter first name: Kyle\n",
            "Assigned Registration Number: JHNKYL001\n",
            "Enter last name (or 'quit'): quit\n"
          ]
        }
      ],
      "source": [
        "load_registry()\n",
        "while True:\n",
        "    try:\n",
        "        last = input(\"Enter last name (or 'quit'): \")\n",
        "        if last.lower() == \"quit\":\n",
        "            break\n",
        "        first = input(\"Enter first name: \")\n",
        "        reg_num = generate_registration(last, first)\n",
        "        print(\"Assigned Registration Number:\", reg_num)\n",
        "    except Exception as e:\n",
        "        print(\"Error:\", e)"
      ]
    }
  ],
  "metadata": {
    "kernelspec": {
      "display_name": "Python 3",
      "language": "python",
      "name": "python3"
    },
    "language_info": {
      "codemirror_mode": {
        "name": "ipython",
        "version": 3
      },
      "file_extension": ".py",
      "mimetype": "text/x-python",
      "name": "python",
      "nbconvert_exporter": "python",
      "pygments_lexer": "ipython3",
      "version": "3.11.13"
    },
    "colab": {
      "provenance": [],
      "include_colab_link": true
    }
  },
  "nbformat": 4,
  "nbformat_minor": 5
}